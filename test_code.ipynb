{
 "cells": [
  {
   "cell_type": "markdown",
   "metadata": {},
   "source": [
    "## 项目代码测试"
   ]
  },
  {
   "cell_type": "code",
   "execution_count": 2,
   "metadata": {},
   "outputs": [],
   "source": [
    "# 这是导入的第三方包\n",
    "import numpy as np\n",
    "import pandas as pd\n",
    "import matplotlib.pyplot as plt\n",
    "from datetime import date\n",
    "from datetime import datetime\n",
    "import os\n",
    "import math\n",
    "from tqdm import tqdm\n",
    "# 这是自己写的其它模块文件\n",
    "import fund # 基金计算模块\n",
    "import index_handler as ih # 指数数据处理模块\n",
    "import date_handler as dh # 日期处理模块\n",
    "import draw_plot as dp # 绘图模块\n",
    "import word_handler as wh # 写入 WORD 模块"
   ]
  },
  {
   "cell_type": "markdown",
   "metadata": {},
   "source": [
    "## 单个基金根据净值进行指标计算"
   ]
  },
  {
   "cell_type": "code",
   "execution_count": 3,
   "metadata": {},
   "outputs": [],
   "source": [
    "data = pd.read_excel(\"data/非指增测试数据.xlsx\", index_col = 0)\n",
    "name_list = data.columns\n",
    "date_list = list(data.loc[\"日期\"])\n",
    "data = data.drop(\"日期\", axis = 0)\n",
    "the_fund = fund.Fund(name_list[1], date_list[1], data[name_list[1]])\n",
    "the_fund.summary_indicators()\n",
    "corp_name = \"大禾投资\""
   ]
  },
  {
   "cell_type": "markdown",
   "metadata": {},
   "source": [
    "## 与指数数据连接"
   ]
  },
  {
   "cell_type": "code",
   "execution_count": null,
   "metadata": {},
   "outputs": [],
   "source": [
    "index_data = pd.read_excel(\"data/指数数据.xlsx\", index_col = 0)\n",
    "index_data = ih.pre_handle_date(index_data)\n",
    "index_data = ih.standardlize_index(index_data, dh.find_closest_date(the_fund.get_first_netval_date(), index_data.index))\n",
    "# 将指数数据与净值数据连接且对齐\n",
    "merged_data = the_fund.basic_data.merge(index_data, how = \"left\", left_index = True, right_index = True)\n",
    "merged_data"
   ]
  },
  {
   "cell_type": "markdown",
   "metadata": {},
   "source": [
    "## 写入 Word\n",
    "\n",
    "一些知乎简单教程： https://zhuanlan.zhihu.com/p/652737528?utm_id=0\n",
    "\n",
    "微软官方文档参考：https://learn.microsoft.com/zh-cn/office/vba/api/word.htmldivision.leftindent"
   ]
  },
  {
   "cell_type": "code",
   "execution_count": 4,
   "metadata": {},
   "outputs": [],
   "source": [
    "summary_dict = the_fund.summary_indicators()\n",
    "yearly_return = the_fund.all_year_return(2017)\n",
    "text_array = []\n",
    "text_array.append([\"指标\"] + list(the_fund.summary_indicators().keys()))\n",
    "text_array.append([the_fund.fund_name] + [\"{:.1%}\".format(summary_dict[key]) if key != \"夏普比率\" else \"{:.1f}\".format(summary_dict[key]) for key in summary_dict.keys()])\n",
    "text_array.append([\"年度\"] + [key for key in yearly_return.keys()][:-1])\n",
    "text_array.append([\"收益\"] + [\"{:.1%}\".format(value) for value in yearly_return.values()][:-1])\n",
    "text_array.append([\"年度\"] + [[key for key in yearly_return.keys()][-1]] + [\"\"]*5)\n",
    "text_array.append([\"收益\"] + [[\"{:.1%}\".format(value) for value in yearly_return.values()][-1]] + [\"\"]*5)\n",
    "text_array = np.array(text_array)\n",
    "start_date = the_fund.get_first_netval_date().strftime(\"%Y年%m月%d日\")\n",
    "end_date = the_fund.get_last_date().strftime(\"%Y年%m月%d日\")\n",
    "table_footer = \"数据来源：\" + corp_name + \"，指标计算区间为\" + start_date + \"至\" + end_date + \"。\""
   ]
  },
  {
   "cell_type": "code",
   "execution_count": 5,
   "metadata": {},
   "outputs": [],
   "source": [
    "\n",
    "word_handler = wh.WordHandler(r\"C:\\Users\\3590\\Desktop\\自动化项目工程文件\\我的测试文档.docx\", visible = True)\n",
    "word_handler.add_text_content(\"1. \" + the_fund.fund_name, \"title\")\n",
    "word_handler.add_picture(r\"C:\\Users\\3590\\Desktop\\自动化项目工程文件\\image\\图像测试.svg\")\n",
    "word_handler.add_text_content(\"数据来源：\" + corp_name + \"，Wind; \", \"footnote\")\n",
    "word_handler.add_text_content(\"分年度看，2021年从2月10日到年底收益26.3%、2022年收益1.4%、2023年截至12月6日收益14.2%。中金量化-汉江5号产品的胜率较高，除2022年之外，各年度均获得了不错的正收益，显著跑赢CTA套利细分策略指数，与南华商品指数不分伯仲。\")\n",
    "word_handler.add_table(text_array.shape[0], text_array.shape[1], \"sep\", text_array)\n",
    "word_handler.add_text_content(table_footer, \"footnote\")"
   ]
  },
  {
   "cell_type": "markdown",
   "metadata": {},
   "source": [
    "## 下面是学习内容"
   ]
  },
  {
   "cell_type": "code",
   "execution_count": 67,
   "metadata": {},
   "outputs": [
    {
     "data": {
      "text/plain": [
       "0"
      ]
     },
     "execution_count": 67,
     "metadata": {},
     "output_type": "execute_result"
    }
   ],
   "source": [
    "word_app = win32.gencache.EnsureDispatch('Word.Application') # 创建 WORD APP 应用程序\n",
    "word_app.Visible = True #显示 word 程序\n",
    "our_doc = word_app.Documents.Open(r\"C:\\Users\\3590\\Desktop\\自动化项目工程文件\\我的测试文档.docx\") # 打开我的文档 \n",
    "our_doc\n",
    "\n",
    "cursor = word_app.Selection # 获取光标\n",
    "section_title = \"1. 中金量化-银河海山 1 号【CTA 日内短线高频策略】\"\n",
    "chinese_font = \"楷体\"\n",
    "english_font = \"Times New Roman\"\n",
    "font_size = 12\n",
    "cursor.Text = section_title\n",
    "cursor.Font.Name = chinese_font\n",
    "cursor.Font.Name = english_font\n",
    "cursor.Font.Size = font_size\n",
    "cursor.Font.Bold = True\n",
    "# 取消选中，然后下移\n",
    "cursor.Collapse(Direction=win32.constants.wdCollapseEnd)\n",
    "cursor.Text = \"\\r\"\n",
    "cursor.EndKey(Unit=win32.constants.wdStory)"
   ]
  },
  {
   "cell_type": "code",
   "execution_count": 74,
   "metadata": {},
   "outputs": [
    {
     "data": {
      "text/plain": [
       "1"
      ]
     },
     "execution_count": 74,
     "metadata": {},
     "output_type": "execute_result"
    }
   ],
   "source": [
    "this_paragraph = cursor.Paragraphs.Add()\n",
    "this_paragraph_range = this_paragraph.Range\n",
    "#指定文件的完整路径\n",
    "picture_path = r\"C:\\Users\\3590\\Desktop\\自动化项目工程文件\\image\\图像测试.svg\"\n",
    "#在当前的段落中插入图片\n",
    "this_paragraph_range.InlineShapes.AddPicture(picture_path)\n",
    "# 取消选中并且下移\n",
    "cursor.MoveDown(win32.constants.wdParagraph, 1)\n",
    "#cursor.Collapse(Direction=win32.constants.wdCollapseEnd)\n",
    "#cursor.Text = \"\\r\"\n",
    "#cursor.EndKey(Unit=win32.constants.wdStory)"
   ]
  },
  {
   "cell_type": "code",
   "execution_count": 75,
   "metadata": {},
   "outputs": [
    {
     "data": {
      "text/plain": [
       "0"
      ]
     },
     "execution_count": 75,
     "metadata": {},
     "output_type": "execute_result"
    }
   ],
   "source": [
    "cursor.Text = \"数据来源：中金量化，Wind;\"\n",
    "font_size = 10.5\n",
    "cursor.Font.Name = chinese_font\n",
    "cursor.Font.Name = english_font\n",
    "cursor.Font.Size = font_size\n",
    "cursor.Font.Bold = False\n",
    "paragraph_format = cursor.ParagraphFormat\n",
    "paragraph_format.LineSpacingRule = win32.constants.wdLineSpaceSingle # 设置单倍行距\n",
    "# 取消选中并且下移\n",
    "cursor.Collapse(Direction=win32.constants.wdCollapseEnd)\n",
    "cursor.Text = \"\\r\"\n",
    "#cursor.MoveDown(win32.constants.wdParagraph, 1)\n",
    "cursor.EndKey(Unit=win32.constants.wdStory)"
   ]
  },
  {
   "cell_type": "code",
   "execution_count": 178,
   "metadata": {},
   "outputs": [],
   "source": [
    "color_dict = {\n",
    "    \"deep_red\" : 0xC00000,\n",
    "    \"orange\" : 0xFFC000,\n",
    "    \"deep_grey\" : 0x7F7F7F,\n",
    "    \"shallow_red\" : 0xFFCCCC,\n",
    "    \"shallow_grey\" : 0xBFBFBF\n",
    "}\n",
    "def convert_to_RGB(BGR_value: int):\n",
    "    \"\"\" 通过位运算将 BGR 转为 RGB \"\"\"\n",
    "    blue = (BGR_value & 0xFF0000) >> 16\n",
    "    green = (BGR_value & 0x00FF00) >> 8\n",
    "    red = BGR_value & 0x0000FF\n",
    "    return (red << 16) | (green << 8) | blue\n",
    "this_table = cursor.Tables.Add(cursor.Range, NumRows = 4, NumColumns = 7)"
   ]
  },
  {
   "cell_type": "code",
   "execution_count": 179,
   "metadata": {},
   "outputs": [],
   "source": [
    "fill_color = convert_to_RGB(color_dict[\"deep_red\"])\n",
    "for idx, row in enumerate(this_table.Rows):\n",
    "    if idx % 2 == 0: \n",
    "        row.Shading.BackgroundPatternColor = fill_color\n",
    "    else:\n",
    "        next(iter(row.Cells)).Shading.BackgroundPatternColor = fill_color "
   ]
  },
  {
   "cell_type": "code",
   "execution_count": 188,
   "metadata": {},
   "outputs": [
    {
     "data": {
      "text/plain": [
       "<win32com.gen_py.Microsoft Word 16.0 Object Library.Cell instance at 0x3118332572144>"
      ]
     },
     "execution_count": 188,
     "metadata": {},
     "output_type": "execute_result"
    }
   ],
   "source": [
    "this_table.Cell(3, 4)"
   ]
  },
  {
   "cell_type": "code",
   "execution_count": 98,
   "metadata": {},
   "outputs": [],
   "source": [
    "# 为表格添加所有框线\n",
    "borders = [win32.constants.wdBorderTop, win32.constants.wdBorderLeft, \n",
    "           win32.constants.wdBorderBottom, win32.constants.wdBorderRight, \n",
    "           win32.constants.wdBorderHorizontal, win32.constants.wdBorderVertical]\n",
    "for border in borders:\n",
    "    this_table.Borders(border).LineStyle = win32.constants.wdLineStyleSingle\n",
    "    this_table.Borders(border).LineWidth = win32.constants.wdLineWidth025pt\n",
    "\n",
    "row_height = 25  # 示例行高，单位：磅\n",
    "for row in this_table.Rows:\n",
    "    row.Height = row_height"
   ]
  },
  {
   "cell_type": "code",
   "execution_count": 99,
   "metadata": {},
   "outputs": [
    {
     "name": "stderr",
     "output_type": "stream",
     "text": [
      "4it [00:02,  1.59it/s]\n"
     ]
    },
    {
     "data": {
      "text/plain": [
       "88"
      ]
     },
     "execution_count": 99,
     "metadata": {},
     "output_type": "execute_result"
    }
   ],
   "source": [
    "for row_idx, row in tqdm(enumerate(this_table.Rows)):\n",
    "    for col_idx, cell in enumerate(row.Cells):\n",
    "        font_size = 10.5\n",
    "        cell.Range.Font.Name = chinese_font\n",
    "        cell.Range.Font.Name = english_font\n",
    "        cell.Range.Text = \"文本\"  # 替换为所需的文本\n",
    "        cell.Range.ParagraphFormat.Alignment = win32.constants.wdAlignParagraphCenter # 设置水平居中\n",
    "        cell.VerticalAlignment = win32.constants.wdCellAlignVerticalCenter # 设置垂直居中\n",
    "        cell.Range.Font.Bold = True if row_idx % 2 == 0 or col_idx == 0 else False\n",
    "cursor.EndKey(Unit=win32.constants.wdStory)\n",
    "#cursor.MoveDown(win32.constants.wdRow,1)"
   ]
  },
  {
   "cell_type": "markdown",
   "metadata": {},
   "source": [
    "## 下面是一些学习内容"
   ]
  },
  {
   "cell_type": "code",
   "execution_count": 211,
   "metadata": {},
   "outputs": [],
   "source": [
    "import win32com.client as win32\n",
    "from PIL import ImageGrab\n",
    "\n",
    "word_app = win32.gencache.EnsureDispatch('Word.Application') # 创建 WORD APP 应用程序\n",
    "word_app.Visible = True #显示 word 程序\n",
    "our_doc = word_app.Documents.Open(r\"C:\\Users\\3590\\Desktop\\自动化项目工程文件\\我的测试文档.docx\") # 打开我的文档 \n",
    "our_doc\n",
    "\n",
    "cursor = word_app.Selection # 获取光标\n",
    "section_title = \"1. 中金量化-银河海山 1 号【CTA 日内短线高频策略】\"\n",
    "chinese_font = \"楷体\"\n",
    "english_font = \"Times New Roman\"\n",
    "font_size = 12\n",
    "cursor.Text = section_title\n",
    "cursor.Font.Name = chinese_font\n",
    "cursor.Font.Name = english_font\n",
    "cursor.Font.Size = font_size\n",
    "cursor.Font.Bold = True\n",
    "# cursor() 获取灰色选中部分的内容\n"
   ]
  },
  {
   "cell_type": "code",
   "execution_count": 274,
   "metadata": {},
   "outputs": [],
   "source": [
    "test_p = \"\"\"分年度看，2021年从2月10日到年底收益26.3%、2022年收益1.4%、2023年截至12月6日收益14.2%。中金量化-汉江5号产品的胜率较高，除2022年之外，各年度均获得了不错的正收益，显著跑赢CTA套利细分策略指数，与南华商品指数不分伯仲。\"\"\"\n",
    "cursor.Font.Name = chinese_font\n",
    "cursor.Font.Name = english_font\n",
    "cursor.Font.Size = 10.5\n",
    "cursor.Font.Bold = False\n",
    "cursor.Text = test_p\n",
    "# 移动光标到段落的开头\n",
    "cursor.MoveUp(win32.constants.wdParagraph, 1)\n",
    "cursor.MoveDown(win32.constants.wdParagraph, 1)\n",
    "cursor.InsertBefore(\"    \")\n",
    "# 获取选中光标所在段落，调整该段落格式\n",
    "paragraph_format = cursor.ParagraphFormat\n",
    "paragraph_format.wdLineSpaceAtLeast = win32.constants.wdLineSpaceAtLeast # 需要指定行距之最小值是多少磅\n",
    "paragraph_format.LineSpacing = 15 # 15 pond 1.25x 行距\n",
    "paragraph_format.Alignment = 0 # 4 是两端对齐"
   ]
  },
  {
   "cell_type": "code",
   "execution_count": 116,
   "metadata": {},
   "outputs": [],
   "source": [
    "test_p = \"\"\"分年度看，2021年从2月10日到年底收益26.3%、2022年收益1.4%、2023年截至12月6日收益14.2%。中金量化-汉江5号产品的胜率较高，除2022年之外，各年度均获得了不错的正收益，显著跑赢CTA套利细分策略指数，与南华商品指数不分伯仲。\"\"\"\n",
    "cursor.Font.Name = chinese_font\n",
    "cursor.Font.Name = english_font\n",
    "cursor.Font.Size = 10.5\n",
    "cursor.Font.Bold = False\n",
    "cursor.Text = test_p"
   ]
  },
  {
   "cell_type": "code",
   "execution_count": 266,
   "metadata": {},
   "outputs": [
    {
     "data": {
      "text/plain": [
       "1"
      ]
     },
     "execution_count": 266,
     "metadata": {},
     "output_type": "execute_result"
    }
   ],
   "source": [
    "cursor = word_app.Selection\n",
    "# 移动光标到段落的开头\n",
    "cursor.MoveUp(win32.constants.wdParagraph, 1)\n",
    "# 将光标从本段移动到下一段开头[若没有下一段，则移动到本段末尾]\n",
    "cursor.MoveDown(win32.constants.wdParagraph, 1)"
   ]
  },
  {
   "cell_type": "markdown",
   "metadata": {},
   "source": [
    "## Excel 学习内容\n",
    "\n",
    "虽然下面是Python代码，但本质上是VBA，语法应该参考西海岸著名科技大厂的官方文档\n",
    "\n",
    "https://learn.microsoft.com/zh-cn/office/vba/api/excel.axis.ticklabels"
   ]
  },
  {
   "cell_type": "code",
   "execution_count": 232,
   "metadata": {},
   "outputs": [],
   "source": [
    "import win32com.client as win32\n",
    "excel_app = win32.Dispatch('Excel.Application') # 创建 Excel APP 应用程序\n",
    "excel_app.Visible = True #显示 word 程序\n",
    "excel_file = excel_app.Workbooks.Open(r\"D:\\study\\实习文件\\办公软件自动化测试\\新测试数据.xlsx\") # 打开我的Excel\n",
    "excel_sheet1 = excel_file.Worksheets(\"Sheet1\") # 获取 Sheet1 对象\n",
    "used_range = excel_sheet1.UsedRange # 获得使用区域对象\n",
    "n_rows = used_range.Rows.Count # 使用区域一共有多少行？\n",
    "n_cols = used_range.Columns.Count # 使用区域一共多少列？\n",
    "used_range.Font.Name = \"宋体\" # 调整使用区域的所有字体\n",
    "excel_sheet1.Range(\"C6:C8\").Font.Name = \"Times New Roman\" # 调整部分区域的字体\n",
    "# MsoChartElementType 是枚举类型，请查阅文档"
   ]
  },
  {
   "cell_type": "code",
   "execution_count": 233,
   "metadata": {},
   "outputs": [],
   "source": [
    "chart = excel_sheet1.Shapes.AddChart(Width=18 * 28.346,Height=8.37 * 28.346).Select() # 对该sheet对象的所有列添加图表\n",
    "chart = excel_file.ActiveChart # 获取当前选中的图表\n",
    "chart.SetSourceData(excel_sheet1.UsedRange)\n",
    "color_dict = {\n",
    "    \"deep_red\" : 0xC00000,\n",
    "    \"orange\" : 0xFFC000,\n",
    "    \"deep_grey\" : 0x7F7F7F,\n",
    "    \"shallow_red\" : 0xFFCCCC,\n",
    "    \"shallow_grey\" : 0xBFBFBF\n",
    "}\n",
    "def convert_to_RGB(BGR_value: int):\n",
    "    \"\"\" 通过位运算将 BGR 转为 RGB \"\"\"\n",
    "    blue = (BGR_value & 0xFF0000) >> 16\n",
    "    green = (BGR_value & 0x00FF00) >> 8\n",
    "    red = BGR_value & 0x0000FF\n",
    "    return (red << 16) | (green << 8) | blue\n",
    "color_list = list(color_dict.keys())\n",
    "for i in range(n_cols - 1):\n",
    "    draw_type = 76 if  \"回撤\" in chart.SeriesCollection(i + 1).Name else 4\n",
    "    chart.SeriesCollection(i + 1).ChartType = draw_type # 修改类型\n",
    "    chart.SeriesCollection(i + 1).Format.Line.ForeColor.RGB = convert_to_RGB(color_dict.get(color_list[i]))\n",
    "    chart.SeriesCollection(i + 1).Format.Line.Weight = 1.5\n",
    "    if draw_type == 76:\n",
    "        chart.SeriesCollection(i + 1).AxisGroup = 2\n",
    "        chart.SeriesCollection(i + 1).Format.Fill.ForeColor.RGB = convert_to_RGB(color_dict.get(color_list[i]))"
   ]
  },
  {
   "cell_type": "code",
   "execution_count": 234,
   "metadata": {},
   "outputs": [],
   "source": [
    "chart.ChartArea.Format.Fill.Visible=False # 图片无填充\n",
    "chart.ChartArea.Format.Line.Visible=False #图片无边框\n",
    "# 标签置于顶部，其它数值参考 https://learn.microsoft.com/zh-cn/office/vba/api/excel.xllegendposition\n",
    "chart.Legend.Position = -4160 \n",
    "chart.Legend.Font.Name = \"楷体\"\n",
    "chart.Legend.Font.Size = 8\n",
    "# Axes() 第一个参数表示坐标轴类型，1是横轴，2是纵轴.\n",
    "chart.Axes(1).TickLabels.Font.Name = \"Arial\" # 设置坐标轴字体\n",
    "chart.Axes(1).TickLabels.Font.Size = 8 # 设置坐标轴大小\n",
    "chart.Axes(1).MajorUnit  = 3 # 设置坐标间隔\n",
    "chart.Axes(1).TickLabels.NumberFormat  = \"yyyy-mm\" # 设置数字格式\n",
    "chart.Axes(1).Border.Weight =  win32.constants.xlThin\n",
    "chart.Axes(1).Border.Color =  0x000000\n",
    "chart.Axes(1).MajorTickMark  =  win32.constants.xlTickMarkInside\n",
    "#chart.Axes(1).MinorTickMark =  win32.constants.xlTickMarkInside\n",
    "\n",
    "\n",
    "chart.Axes(2, 1).TickLabels.Font.Name = \"Arial\" # 设置坐标轴字体\n",
    "chart.Axes(2, 1).TickLabels.Font.Size = 8 # 设置坐标轴大小\n",
    "#chart.Axes(2, 2).MajorUnit  = 0.2 # 设置坐标间隔\n",
    "chart.Axes(2, 1).TickLabels.NumberFormat  = \"0.00\"\n",
    "\n",
    "chart.Axes(2, 2).TickLabels.Font.Name = \"Arial\" # 设置坐标轴字体\n",
    "chart.Axes(2, 2).TickLabels.Font.Size = 8 # 设置坐标轴大小\n",
    "chart.Axes(2, 2).TickLabels.NumberFormat  = \"0.0%\"\n",
    "\n",
    "chart.Axes(2, 2).Format.Line.Visible = False # 纵轴刻度线消失\n",
    "chart.Axes(2, 1).Format.Line.Visible = False\n",
    "\n",
    "chart.Axes(2, 1).HasMajorGridlines  = True\n",
    "chart.Axes(2, 1).MajorGridlines.Border.Color = 0xD9D9D9\n",
    "chart.Axes(2, 1).MajorGridlines.Border.LineStyle = win32.constants.xlDash\n",
    "\n",
    "chart.ChartArea.Format.Fill.Transparency = 1 \n",
    "chart.PlotArea.Interior.ColorIndex = False"
   ]
  },
  {
   "cell_type": "code",
   "execution_count": 238,
   "metadata": {},
   "outputs": [],
   "source": [
    "# 复制粘贴到 WORD\n",
    "chart.ChartArea.Copy()\n",
    "cursor.Paste()"
   ]
  }
 ],
 "metadata": {
  "kernelspec": {
   "display_name": "base",
   "language": "python",
   "name": "python3"
  },
  "language_info": {
   "codemirror_mode": {
    "name": "ipython",
    "version": 3
   },
   "file_extension": ".py",
   "mimetype": "text/x-python",
   "name": "python",
   "nbconvert_exporter": "python",
   "pygments_lexer": "ipython3",
   "version": "3.8.8"
  }
 },
 "nbformat": 4,
 "nbformat_minor": 2
}
