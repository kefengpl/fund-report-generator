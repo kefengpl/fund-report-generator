{
 "cells": [
  {
   "cell_type": "markdown",
   "metadata": {},
   "source": [
    "## 项目代码测试"
   ]
  },
  {
   "cell_type": "code",
   "execution_count": 1,
   "metadata": {},
   "outputs": [],
   "source": [
    "# 这是导入的第三方包\n",
    "import numpy as np\n",
    "import pandas as pd\n",
    "import matplotlib.pyplot as plt\n",
    "from datetime import date\n",
    "from datetime import datetime\n",
    "import os\n",
    "# 这是自己写的其它模块文件\n",
    "import fund # 基金计算模块\n",
    "import utils # 一些工具模块，用于把字典 dict 转化为 pd.Series 或者 pd.DataFrame\n",
    "import index_handler as ih # 指数数据处理模块\n",
    "import date_handler as dh # 日期处理模块\n",
    "import draw_plot as dp # 绘图模块\n",
    "import word_handler as wh # 写入 WORD 模块\n",
    "import enhanced_fund as ef"
   ]
  },
  {
   "cell_type": "markdown",
   "metadata": {},
   "source": [
    "## 单个基金根据净值进行指标计算"
   ]
  },
  {
   "cell_type": "code",
   "execution_count": 4,
   "metadata": {},
   "outputs": [],
   "source": [
    "netval_data = pd.read_excel(\"data/九章幻方中证500量化多策略1号.xlsx\", index_col = 0)\n",
    "index_data = pd.read_excel(\"data/中证500.xlsx\", index_col = 0)\n",
    "name_list = netval_data.columns\n",
    "index_name = \"中证500\"\n",
    "idx = 0\n",
    "the_fund = ef.EnhancedFund(name_list[idx], netval_data[name_list[idx]], index_data, index_name)\n",
    "corp_name = \"九坤投资\""
   ]
  },
  {
   "cell_type": "code",
   "execution_count": 17,
   "metadata": {},
   "outputs": [
    {
     "data": {
      "text/plain": [
       "'指增82'"
      ]
     },
     "execution_count": 17,
     "metadata": {},
     "output_type": "execute_result"
    }
   ],
   "source": [
    "str_ = \"指增82-超额\"\n",
    "str_.rstrip(\"-超额\")"
   ]
  },
  {
   "cell_type": "code",
   "execution_count": 3,
   "metadata": {},
   "outputs": [
    {
     "ename": "KeyError",
     "evalue": "False",
     "output_type": "error",
     "traceback": [
      "\u001b[1;31m---------------------------------------------------------------------------\u001b[0m",
      "\u001b[1;31mKeyError\u001b[0m                                  Traceback (most recent call last)",
      "File \u001b[1;32mc:\\Users\\3590\\Desktop\\自动化项目工程文件\\myenv\\lib\\site-packages\\pandas\\core\\indexes\\base.py:3653\u001b[0m, in \u001b[0;36mIndex.get_loc\u001b[1;34m(self, key)\u001b[0m\n\u001b[0;32m   3652\u001b[0m \u001b[38;5;28;01mtry\u001b[39;00m:\n\u001b[1;32m-> 3653\u001b[0m     \u001b[38;5;28;01mreturn\u001b[39;00m \u001b[38;5;28;43mself\u001b[39;49m\u001b[38;5;241;43m.\u001b[39;49m\u001b[43m_engine\u001b[49m\u001b[38;5;241;43m.\u001b[39;49m\u001b[43mget_loc\u001b[49m\u001b[43m(\u001b[49m\u001b[43mcasted_key\u001b[49m\u001b[43m)\u001b[49m\n\u001b[0;32m   3654\u001b[0m \u001b[38;5;28;01mexcept\u001b[39;00m \u001b[38;5;167;01mKeyError\u001b[39;00m \u001b[38;5;28;01mas\u001b[39;00m err:\n",
      "File \u001b[1;32mc:\\Users\\3590\\Desktop\\自动化项目工程文件\\myenv\\lib\\site-packages\\pandas\\_libs\\index.pyx:147\u001b[0m, in \u001b[0;36mpandas._libs.index.IndexEngine.get_loc\u001b[1;34m()\u001b[0m\n",
      "File \u001b[1;32mc:\\Users\\3590\\Desktop\\自动化项目工程文件\\myenv\\lib\\site-packages\\pandas\\_libs\\index.pyx:176\u001b[0m, in \u001b[0;36mpandas._libs.index.IndexEngine.get_loc\u001b[1;34m()\u001b[0m\n",
      "File \u001b[1;32mpandas\\_libs\\hashtable_class_helper.pxi:7080\u001b[0m, in \u001b[0;36mpandas._libs.hashtable.PyObjectHashTable.get_item\u001b[1;34m()\u001b[0m\n",
      "File \u001b[1;32mpandas\\_libs\\hashtable_class_helper.pxi:7088\u001b[0m, in \u001b[0;36mpandas._libs.hashtable.PyObjectHashTable.get_item\u001b[1;34m()\u001b[0m\n",
      "\u001b[1;31mKeyError\u001b[0m: False",
      "\nThe above exception was the direct cause of the following exception:\n",
      "\u001b[1;31mKeyError\u001b[0m                                  Traceback (most recent call last)",
      "Cell \u001b[1;32mIn[3], line 4\u001b[0m\n\u001b[0;32m      2\u001b[0m netval_path \u001b[38;5;241m=\u001b[39m \u001b[38;5;124m\"\u001b[39m\u001b[38;5;124mdata/九章幻方中证500量化多策略1号.xlsx\u001b[39m\u001b[38;5;124m\"\u001b[39m\n\u001b[0;32m      3\u001b[0m index_path \u001b[38;5;241m=\u001b[39m \u001b[38;5;124m\"\u001b[39m\u001b[38;5;124mdata/中证500.xlsx\u001b[39m\u001b[38;5;124m\"\u001b[39m\n\u001b[1;32m----> 4\u001b[0m \u001b[43msingle_fund_report\u001b[49m\u001b[43m(\u001b[49m\u001b[43mnetval_path\u001b[49m\u001b[43m,\u001b[49m\u001b[43m \u001b[49m\u001b[43mindex_path\u001b[49m\u001b[43m,\u001b[49m\u001b[43m \u001b[49m\u001b[38;5;124;43m\"\u001b[39;49m\u001b[38;5;124;43m九坤投资\u001b[39;49m\u001b[38;5;124;43m\"\u001b[39;49m\u001b[43m)\u001b[49m\n",
      "File \u001b[1;32mc:\\Users\\3590\\Desktop\\自动化项目工程文件\\main.py:18\u001b[0m, in \u001b[0;36msingle_fund_report\u001b[1;34m(netval_path, index_path, corp_name)\u001b[0m\n\u001b[0;32m     16\u001b[0m index_data \u001b[38;5;241m=\u001b[39m pd\u001b[38;5;241m.\u001b[39mread_excel(index_path, index_col \u001b[38;5;241m=\u001b[39m \u001b[38;5;241m0\u001b[39m)\n\u001b[0;32m     17\u001b[0m fund_name \u001b[38;5;241m=\u001b[39m netval_data\u001b[38;5;241m.\u001b[39mcolumns[\u001b[38;5;241m0\u001b[39m]\n\u001b[1;32m---> 18\u001b[0m \u001b[43mgenerate_report\u001b[49m\u001b[43m(\u001b[49m\u001b[43mnetval_data\u001b[49m\u001b[38;5;241;43m.\u001b[39;49m\u001b[43miloc\u001b[49m\u001b[43m[\u001b[49m\u001b[43m:\u001b[49m\u001b[43m,\u001b[49m\u001b[43m \u001b[49m\u001b[38;5;241;43m0\u001b[39;49m\u001b[43m]\u001b[49m\u001b[43m,\u001b[49m\u001b[43m \u001b[49m\u001b[43mfund_name\u001b[49m\u001b[43m,\u001b[49m\u001b[43m \u001b[49m\u001b[43mindex_data\u001b[49m\u001b[43m,\u001b[49m\u001b[43m \u001b[49m\u001b[43mcorp_name\u001b[49m\u001b[43m,\u001b[49m\u001b[43m \u001b[49m\u001b[43manalyze_text_start_year\u001b[49m\u001b[43m \u001b[49m\u001b[38;5;241;43m=\u001b[39;49m\u001b[43m \u001b[49m\u001b[38;5;241;43m2021\u001b[39;49m\u001b[43m)\u001b[49m\n",
      "File \u001b[1;32mc:\\Users\\3590\\Desktop\\自动化项目工程文件\\report_generate.py:28\u001b[0m, in \u001b[0;36mgenerate_report\u001b[1;34m(netval_data, fund_name, index_data, corp_name, start_date, create_date, **kwargs)\u001b[0m\n\u001b[0;32m     26\u001b[0m return_risk_table \u001b[38;5;241m=\u001b[39m this_fund\u001b[38;5;241m.\u001b[39mreturn_risk_table() \u001b[38;5;66;03m# 获取表格“收益风险指标”所有单元格的数据\u001b[39;00m\n\u001b[0;32m     27\u001b[0m history_return_table \u001b[38;5;241m=\u001b[39m this_fund\u001b[38;5;241m.\u001b[39mhistory_return_table(\u001b[38;5;241m2020\u001b[39m) \u001b[38;5;66;03m# 获取“历史收益分析”所有单元格的数据\u001b[39;00m\n\u001b[1;32m---> 28\u001b[0m draw_data \u001b[38;5;241m=\u001b[39m \u001b[43mthis_fund\u001b[49m\u001b[38;5;241;43m.\u001b[39;49m\u001b[43mget_chart_data\u001b[49m\u001b[43m(\u001b[49m\u001b[43mindex_data\u001b[49m\u001b[43m)\u001b[49m \u001b[38;5;66;03m# 获取绘图数据，\u001b[39;00m\n\u001b[0;32m     29\u001b[0m file_name \u001b[38;5;241m=\u001b[39m this_fund\u001b[38;5;241m.\u001b[39mexport_chart_data(draw_data) \u001b[38;5;66;03m# 导出绘图数据，并返回文件名\u001b[39;00m\n\u001b[0;32m     30\u001b[0m file_abs_path \u001b[38;5;241m=\u001b[39m os\u001b[38;5;241m.\u001b[39mpath\u001b[38;5;241m.\u001b[39mabspath(\u001b[38;5;124m\"\u001b[39m\u001b[38;5;124moutput/\u001b[39m\u001b[38;5;124m\"\u001b[39m \u001b[38;5;241m+\u001b[39m file_name) \u001b[38;5;66;03m# 由于win32py只有绝对路径，所以把相对路径转为绝对路径\u001b[39;00m\n",
      "File \u001b[1;32mc:\\Users\\3590\\Desktop\\自动化项目工程文件\\fund.py:399\u001b[0m, in \u001b[0;36mFund.get_chart_data\u001b[1;34m(self, index_data)\u001b[0m\n\u001b[0;32m    389\u001b[0m \u001b[38;5;250m\u001b[39m\u001b[38;5;124;03m\"\"\"\u001b[39;00m\n\u001b[0;32m    390\u001b[0m \u001b[38;5;124;03m获取绘制净值走势和回撤的数据[一般包含基金标准化净值，回撤，指数数据]，\u001b[39;00m\n\u001b[0;32m    391\u001b[0m \u001b[38;5;124;03m会从开始日期 或者 第一个净值日期 开始计算\u001b[39;00m\n\u001b[1;32m   (...)\u001b[0m\n\u001b[0;32m    396\u001b[0m \u001b[38;5;124;03m    返回导出作图文件的名称\u001b[39;00m\n\u001b[0;32m    397\u001b[0m \u001b[38;5;124;03m\"\"\"\u001b[39;00m\n\u001b[0;32m    398\u001b[0m start_date: date \u001b[38;5;241m=\u001b[39m \u001b[38;5;28mself\u001b[39m\u001b[38;5;241m.\u001b[39mstart_date\n\u001b[1;32m--> 399\u001b[0m index_handler \u001b[38;5;241m=\u001b[39m \u001b[43mih\u001b[49m\u001b[38;5;241;43m.\u001b[39;49m\u001b[43mIndexHandler\u001b[49m\u001b[43m(\u001b[49m\u001b[43mindex_data\u001b[49m\u001b[43m,\u001b[49m\u001b[43m \u001b[49m\u001b[43mstart_date\u001b[49m\u001b[43m)\u001b[49m\n\u001b[0;32m    400\u001b[0m drawdown_col_name \u001b[38;5;241m=\u001b[39m \u001b[38;5;28mself\u001b[39m\u001b[38;5;241m.\u001b[39mget_column_name(\u001b[38;5;124m\"\u001b[39m\u001b[38;5;124m回撤\u001b[39m\u001b[38;5;124m\"\u001b[39m)\n\u001b[0;32m    401\u001b[0m standalized_col_name \u001b[38;5;241m=\u001b[39m \u001b[38;5;28mself\u001b[39m\u001b[38;5;241m.\u001b[39mget_column_name(\u001b[38;5;124m\"\u001b[39m\u001b[38;5;124m标准化\u001b[39m\u001b[38;5;124m\"\u001b[39m)\n",
      "File \u001b[1;32mc:\\Users\\3590\\Desktop\\自动化项目工程文件\\index_handler.py:23\u001b[0m, in \u001b[0;36mIndexHandler.__init__\u001b[1;34m(self, index_data, start_date, standalized)\u001b[0m\n\u001b[0;32m     21\u001b[0m \u001b[38;5;28mself\u001b[39m\u001b[38;5;241m.\u001b[39mpre_handle_date()\n\u001b[0;32m     22\u001b[0m \u001b[38;5;28;01mif\u001b[39;00m standalized:\n\u001b[1;32m---> 23\u001b[0m     \u001b[38;5;28;43mself\u001b[39;49m\u001b[38;5;241;43m.\u001b[39;49m\u001b[43mstandardlize_index\u001b[49m\u001b[43m(\u001b[49m\u001b[43mstart_date\u001b[49m\u001b[43m)\u001b[49m\n",
      "File \u001b[1;32mc:\\Users\\3590\\Desktop\\自动化项目工程文件\\index_handler.py:52\u001b[0m, in \u001b[0;36mIndexHandler.standardlize_index\u001b[1;34m(self, start_date)\u001b[0m\n\u001b[0;32m     49\u001b[0m     \u001b[38;5;28;01mraise\u001b[39;00m \u001b[38;5;167;01mValueError\u001b[39;00m(\u001b[38;5;124m\"\u001b[39m\u001b[38;5;124m开始日期start_date必须是指数数据所列日期之一\u001b[39m\u001b[38;5;124m\"\u001b[39m)\n\u001b[0;32m     50\u001b[0m \u001b[38;5;28;01mfor\u001b[39;00m column \u001b[38;5;129;01min\u001b[39;00m \u001b[38;5;28mself\u001b[39m\u001b[38;5;241m.\u001b[39mindex_data\u001b[38;5;241m.\u001b[39mcolumns:\n\u001b[0;32m     51\u001b[0m     \u001b[38;5;28mself\u001b[39m\u001b[38;5;241m.\u001b[39mindex_data[column] \u001b[38;5;241m=\u001b[39m \u001b[38;5;28mself\u001b[39m\u001b[38;5;241m.\u001b[39mindex_data[column] \u001b[38;5;241m/\u001b[39m  \\\n\u001b[1;32m---> 52\u001b[0m          \u001b[38;5;28mself\u001b[39m\u001b[38;5;241m.\u001b[39mindex_data[column][start_date \u001b[38;5;28;01mif\u001b[39;00m start_date \u001b[38;5;129;01mis\u001b[39;00m \u001b[38;5;129;01mnot\u001b[39;00m \u001b[38;5;28;01mNone\u001b[39;00m \u001b[38;5;129;01mand\u001b[39;00m \u001b[38;5;129;01mnot\u001b[39;00m \u001b[38;5;28;43mself\u001b[39;49m\u001b[38;5;241;43m.\u001b[39;49m\u001b[43mindex_data\u001b[49m\u001b[43m[\u001b[49m\u001b[43mcolumn\u001b[49m\u001b[43m]\u001b[49m\u001b[43m[\u001b[49m\u001b[43mpd\u001b[49m\u001b[38;5;241;43m.\u001b[39;49m\u001b[43misna\u001b[49m\u001b[43m(\u001b[49m\u001b[43mstart_date\u001b[49m\u001b[43m)\u001b[49m\u001b[43m]\u001b[49m\n\u001b[0;32m     53\u001b[0m                                  \u001b[38;5;28;01melse\u001b[39;00m \u001b[38;5;28mself\u001b[39m\u001b[38;5;241m.\u001b[39mindex_data[column]\u001b[38;5;241m.\u001b[39mfirst_valid_index()]\n\u001b[0;32m     54\u001b[0m \u001b[38;5;28;01mreturn\u001b[39;00m \u001b[38;5;28mself\u001b[39m\u001b[38;5;241m.\u001b[39mindex_data[\u001b[38;5;28mself\u001b[39m\u001b[38;5;241m.\u001b[39mindex_data\u001b[38;5;241m.\u001b[39mindex \u001b[38;5;241m>\u001b[39m\u001b[38;5;241m=\u001b[39m start_date]\n",
      "File \u001b[1;32mc:\\Users\\3590\\Desktop\\自动化项目工程文件\\myenv\\lib\\site-packages\\pandas\\core\\series.py:1007\u001b[0m, in \u001b[0;36mSeries.__getitem__\u001b[1;34m(self, key)\u001b[0m\n\u001b[0;32m   1004\u001b[0m     \u001b[38;5;28;01mreturn\u001b[39;00m \u001b[38;5;28mself\u001b[39m\u001b[38;5;241m.\u001b[39m_values[key]\n\u001b[0;32m   1006\u001b[0m \u001b[38;5;28;01melif\u001b[39;00m key_is_scalar:\n\u001b[1;32m-> 1007\u001b[0m     \u001b[38;5;28;01mreturn\u001b[39;00m \u001b[38;5;28;43mself\u001b[39;49m\u001b[38;5;241;43m.\u001b[39;49m\u001b[43m_get_value\u001b[49m\u001b[43m(\u001b[49m\u001b[43mkey\u001b[49m\u001b[43m)\u001b[49m\n\u001b[0;32m   1009\u001b[0m \u001b[38;5;28;01mif\u001b[39;00m is_hashable(key):\n\u001b[0;32m   1010\u001b[0m     \u001b[38;5;66;03m# Otherwise index.get_value will raise InvalidIndexError\u001b[39;00m\n\u001b[0;32m   1011\u001b[0m     \u001b[38;5;28;01mtry\u001b[39;00m:\n\u001b[0;32m   1012\u001b[0m         \u001b[38;5;66;03m# For labels that don't resolve as scalars like tuples and frozensets\u001b[39;00m\n",
      "File \u001b[1;32mc:\\Users\\3590\\Desktop\\自动化项目工程文件\\myenv\\lib\\site-packages\\pandas\\core\\series.py:1116\u001b[0m, in \u001b[0;36mSeries._get_value\u001b[1;34m(self, label, takeable)\u001b[0m\n\u001b[0;32m   1113\u001b[0m     \u001b[38;5;28;01mreturn\u001b[39;00m \u001b[38;5;28mself\u001b[39m\u001b[38;5;241m.\u001b[39m_values[label]\n\u001b[0;32m   1115\u001b[0m \u001b[38;5;66;03m# Similar to Index.get_value, but we do not fall back to positional\u001b[39;00m\n\u001b[1;32m-> 1116\u001b[0m loc \u001b[38;5;241m=\u001b[39m \u001b[38;5;28;43mself\u001b[39;49m\u001b[38;5;241;43m.\u001b[39;49m\u001b[43mindex\u001b[49m\u001b[38;5;241;43m.\u001b[39;49m\u001b[43mget_loc\u001b[49m\u001b[43m(\u001b[49m\u001b[43mlabel\u001b[49m\u001b[43m)\u001b[49m\n\u001b[0;32m   1118\u001b[0m \u001b[38;5;28;01mif\u001b[39;00m is_integer(loc):\n\u001b[0;32m   1119\u001b[0m     \u001b[38;5;28;01mreturn\u001b[39;00m \u001b[38;5;28mself\u001b[39m\u001b[38;5;241m.\u001b[39m_values[loc]\n",
      "File \u001b[1;32mc:\\Users\\3590\\Desktop\\自动化项目工程文件\\myenv\\lib\\site-packages\\pandas\\core\\indexes\\base.py:3655\u001b[0m, in \u001b[0;36mIndex.get_loc\u001b[1;34m(self, key)\u001b[0m\n\u001b[0;32m   3653\u001b[0m     \u001b[38;5;28;01mreturn\u001b[39;00m \u001b[38;5;28mself\u001b[39m\u001b[38;5;241m.\u001b[39m_engine\u001b[38;5;241m.\u001b[39mget_loc(casted_key)\n\u001b[0;32m   3654\u001b[0m \u001b[38;5;28;01mexcept\u001b[39;00m \u001b[38;5;167;01mKeyError\u001b[39;00m \u001b[38;5;28;01mas\u001b[39;00m err:\n\u001b[1;32m-> 3655\u001b[0m     \u001b[38;5;28;01mraise\u001b[39;00m \u001b[38;5;167;01mKeyError\u001b[39;00m(key) \u001b[38;5;28;01mfrom\u001b[39;00m \u001b[38;5;21;01merr\u001b[39;00m\n\u001b[0;32m   3656\u001b[0m \u001b[38;5;28;01mexcept\u001b[39;00m \u001b[38;5;167;01mTypeError\u001b[39;00m:\n\u001b[0;32m   3657\u001b[0m     \u001b[38;5;66;03m# If we have a listlike key, _check_indexing_error will raise\u001b[39;00m\n\u001b[0;32m   3658\u001b[0m     \u001b[38;5;66;03m#  InvalidIndexError. Otherwise we fall through and re-raise\u001b[39;00m\n\u001b[0;32m   3659\u001b[0m     \u001b[38;5;66;03m#  the TypeError.\u001b[39;00m\n\u001b[0;32m   3660\u001b[0m     \u001b[38;5;28mself\u001b[39m\u001b[38;5;241m.\u001b[39m_check_indexing_error(key)\n",
      "\u001b[1;31mKeyError\u001b[0m: False"
     ]
    }
   ],
   "source": [
    "from main import *\n",
    "netval_path = \"data/九章幻方中证500量化多策略1号.xlsx\"\n",
    "index_path = \"data/中证500.xlsx\"\n",
    "single_fund_report(netval_path, index_path, \"九坤投资\")"
   ]
  },
  {
   "cell_type": "code",
   "execution_count": 19,
   "metadata": {},
   "outputs": [
    {
     "data": {
      "text/plain": [
       "1.0"
      ]
     },
     "execution_count": 19,
     "metadata": {},
     "output_type": "execute_result"
    }
   ],
   "source": [
    "data = the_fund.net_val\n",
    "data[data.first_valid_index()]"
   ]
  },
  {
   "cell_type": "code",
   "execution_count": 42,
   "metadata": {},
   "outputs": [
    {
     "data": {
      "text/plain": [
       "nan"
      ]
     },
     "execution_count": 42,
     "metadata": {},
     "output_type": "execute_result"
    }
   ],
   "source": [
    "data.iloc[0]"
   ]
  },
  {
   "cell_type": "code",
   "execution_count": 20,
   "metadata": {},
   "outputs": [
    {
     "data": {
      "text/plain": [
       "datetime.date(2016, 11, 25)"
      ]
     },
     "execution_count": 20,
     "metadata": {},
     "output_type": "execute_result"
    }
   ],
   "source": [
    "data.first_valid_index()"
   ]
  },
  {
   "cell_type": "code",
   "execution_count": 22,
   "metadata": {},
   "outputs": [
    {
     "data": {
      "text/plain": [
       "0         NaN\n",
       "1         NaN\n",
       "2    1.333333\n",
       "3    1.125000\n",
       "4    1.066667\n",
       "5         NaN\n",
       "6         NaN\n",
       "dtype: float64"
      ]
     },
     "execution_count": 22,
     "metadata": {},
     "output_type": "execute_result"
    }
   ],
   "source": [
    "x = (series1.pct_change() + 1) / (series2.pct_change() + 1)\n",
    "x"
   ]
  },
  {
   "cell_type": "code",
   "execution_count": 38,
   "metadata": {},
   "outputs": [
    {
     "data": {
      "text/plain": [
       "[0, 1, 2, 3, 4, 5, 6]"
      ]
     },
     "execution_count": 38,
     "metadata": {},
     "output_type": "execute_result"
    }
   ],
   "source": [
    "_list = list(x.index)\n",
    "_list"
   ]
  },
  {
   "cell_type": "code",
   "execution_count": 40,
   "metadata": {},
   "outputs": [
    {
     "data": {
      "text/plain": [
       "1"
      ]
     },
     "execution_count": 40,
     "metadata": {},
     "output_type": "execute_result"
    }
   ],
   "source": [
    "_list.index(x.first_valid_index()) - 1 "
   ]
  },
  {
   "cell_type": "markdown",
   "metadata": {},
   "source": [
    "## 写入 Word\n",
    "\n",
    "一些知乎简单教程： https://zhuanlan.zhihu.com/p/652737528?utm_id=0\n",
    "\n",
    "微软官方文档参考：https://learn.microsoft.com/zh-cn/office/vba/api/word.htmldivision.leftindent"
   ]
  },
  {
   "cell_type": "code",
   "execution_count": 4,
   "metadata": {},
   "outputs": [],
   "source": [
    "start_date = the_fund.get_first_netval_date().strftime(\"%Y年%m月%d日\")\n",
    "end_date = the_fund.get_last_date().strftime(\"%Y年%m月%d日\")\n",
    "table_footer = \"数据来源：\" + corp_name + \"，指标计算区间为\" + start_date + \"至\" + end_date + \"。\"\n",
    "return_risk_table = the_fund.return_risk_table()\n",
    "history_return_table = the_fund.history_return_table(2020)\n",
    "index_data = pd.read_excel(\"data/指数数据.xlsx\", index_col = 0)\n",
    "file_name = the_fund.get_chart_data(index_data)\n",
    "file_abs_path = os.path.abspath(\"output/\" + file_name)\n",
    "\n",
    "#word_handler = wh.WordHandler(r\"C:\\Users\\3590\\Desktop\\自动化项目工程文件\\我的测试文档.docx\", visible = True)\n",
    "word_handler = wh.WordHandler(visible = False)\n",
    "word_handler.set_page_layout()\n",
    "word_handler.add_text_content(\"1. \" + the_fund.fund_name, \"title\")\n",
    "# word_handler.add_picture(r\"C:\\Users\\3590\\Desktop\\自动化项目工程文件\\image\\图像测试.svg\")\n",
    "word_handler.add_excel_chart(file_abs_path)\n",
    "word_handler.add_text_content(\"数据来源：\" + corp_name + \"，Wind; \", \"footnote\")\n",
    "word_handler.add_text_content(\"\", \"footnote\")\n",
    "word_handler.add_text_content(\"1) 业绩分析\", \"title\")\n",
    "word_handler.add_text_content(\"1.1) 收益走势\", \"title\")\n",
    "word_handler.add_text_content(the_fund.get_analyze_text())\n",
    "word_handler.add_text_content(\"1.2) 收益风险指标\", \"title\")\n",
    "word_handler.add_text_content(\"\", \"footnote\")\n",
    "word_handler.add_table(return_risk_table.shape[0], return_risk_table.shape[1], \"sep\", return_risk_table)\n",
    "word_handler.add_text_content(table_footer, \"footnote\")\n",
    "word_handler.add_text_content(\"\", \"footnote\")\n",
    "word_handler.add_text_content(\"1.3) 历史收益分析\", \"title\")\n",
    "word_handler.add_text_content(\"\", \"footnote\")\n",
    "word_handler.add_table(history_return_table.shape[0], history_return_table.shape[1], \"first_row\", history_return_table)\n",
    "word_handler.add_text_content(table_footer, \"footnote\")\n",
    "word_handler.add_text_content(\"\", \"footnote\")\n",
    "word_handler.add_text_content(\"\", \"footnote\")\n",
    "word_handler.close_and_save(the_fund.fund_name)"
   ]
  },
  {
   "cell_type": "markdown",
   "metadata": {},
   "source": [
    "## 下面是学习内容"
   ]
  },
  {
   "cell_type": "code",
   "execution_count": 67,
   "metadata": {},
   "outputs": [
    {
     "data": {
      "text/plain": [
       "0"
      ]
     },
     "execution_count": 67,
     "metadata": {},
     "output_type": "execute_result"
    }
   ],
   "source": [
    "import win32com.client as win32\n",
    "word_app = win32.gencache.EnsureDispatch('Word.Application') # 创建 WORD APP 应用程序\n",
    "word_app.Visible = True #显示 word 程序\n",
    "our_doc = word_app.Documents.Open(r\"C:\\Users\\3590\\Desktop\\自动化项目工程文件\\我的测试文档.docx\") # 打开我的文档 \n",
    "our_doc\n",
    "\n",
    "cursor = word_app.Selection # 获取光标\n",
    "section_title = \"1. 中金量化-银河海山 1 号【CTA 日内短线高频策略】\"\n",
    "chinese_font = \"楷体\"\n",
    "english_font = \"Times New Roman\"\n",
    "font_size = 12\n",
    "cursor.Text = section_title\n",
    "cursor.Font.Name = chinese_font\n",
    "cursor.Font.Name = english_font\n",
    "cursor.Font.Size = font_size\n",
    "cursor.Font.Bold = True\n",
    "# 取消选中，然后下移\n",
    "cursor.Collapse(Direction=win32.constants.wdCollapseEnd)\n",
    "cursor.Text = \"\\r\"\n",
    "cursor.EndKey(Unit=win32.constants.wdStory)"
   ]
  },
  {
   "cell_type": "code",
   "execution_count": 74,
   "metadata": {},
   "outputs": [
    {
     "data": {
      "text/plain": [
       "1"
      ]
     },
     "execution_count": 74,
     "metadata": {},
     "output_type": "execute_result"
    }
   ],
   "source": [
    "this_paragraph = cursor.Paragraphs.Add()\n",
    "this_paragraph_range = this_paragraph.Range\n",
    "#指定文件的完整路径\n",
    "picture_path = r\"C:\\Users\\3590\\Desktop\\自动化项目工程文件\\image\\图像测试.svg\"\n",
    "#在当前的段落中插入图片\n",
    "this_paragraph_range.InlineShapes.AddPicture(picture_path)\n",
    "# 取消选中并且下移\n",
    "cursor.MoveDown(win32.constants.wdParagraph, 1)\n",
    "#cursor.Collapse(Direction=win32.constants.wdCollapseEnd)\n",
    "#cursor.Text = \"\\r\"\n",
    "#cursor.EndKey(Unit=win32.constants.wdStory)"
   ]
  },
  {
   "cell_type": "code",
   "execution_count": 75,
   "metadata": {},
   "outputs": [
    {
     "data": {
      "text/plain": [
       "0"
      ]
     },
     "execution_count": 75,
     "metadata": {},
     "output_type": "execute_result"
    }
   ],
   "source": [
    "cursor.Text = \"数据来源：中金量化，Wind;\"\n",
    "font_size = 10.5\n",
    "cursor.Font.Name = chinese_font\n",
    "cursor.Font.Name = english_font\n",
    "cursor.Font.Size = font_size\n",
    "cursor.Font.Bold = False\n",
    "paragraph_format = cursor.ParagraphFormat\n",
    "paragraph_format.LineSpacingRule = win32.constants.wdLineSpaceSingle # 设置单倍行距\n",
    "# 取消选中并且下移\n",
    "cursor.Collapse(Direction=win32.constants.wdCollapseEnd)\n",
    "cursor.Text = \"\\r\"\n",
    "#cursor.MoveDown(win32.constants.wdParagraph, 1)\n",
    "cursor.EndKey(Unit=win32.constants.wdStory)"
   ]
  },
  {
   "cell_type": "code",
   "execution_count": 178,
   "metadata": {},
   "outputs": [],
   "source": [
    "color_dict = {\n",
    "    \"deep_red\" : 0xC00000,\n",
    "    \"orange\" : 0xFFC000,\n",
    "    \"deep_grey\" : 0x7F7F7F,\n",
    "    \"shallow_red\" : 0xFFCCCC,\n",
    "    \"shallow_grey\" : 0xBFBFBF\n",
    "}\n",
    "def convert_to_RGB(BGR_value: int):\n",
    "    \"\"\" 通过位运算将 BGR 转为 RGB \"\"\"\n",
    "    blue = (BGR_value & 0xFF0000) >> 16\n",
    "    green = (BGR_value & 0x00FF00) >> 8\n",
    "    red = BGR_value & 0x0000FF\n",
    "    return (red << 16) | (green << 8) | blue\n",
    "this_table = cursor.Tables.Add(cursor.Range, NumRows = 4, NumColumns = 7)"
   ]
  },
  {
   "cell_type": "code",
   "execution_count": 179,
   "metadata": {},
   "outputs": [],
   "source": [
    "fill_color = convert_to_RGB(color_dict[\"deep_red\"])\n",
    "for idx, row in enumerate(this_table.Rows):\n",
    "    if idx % 2 == 0: \n",
    "        row.Shading.BackgroundPatternColor = fill_color\n",
    "    else:\n",
    "        next(iter(row.Cells)).Shading.BackgroundPatternColor = fill_color "
   ]
  },
  {
   "cell_type": "code",
   "execution_count": 188,
   "metadata": {},
   "outputs": [
    {
     "data": {
      "text/plain": [
       "<win32com.gen_py.Microsoft Word 16.0 Object Library.Cell instance at 0x3118332572144>"
      ]
     },
     "execution_count": 188,
     "metadata": {},
     "output_type": "execute_result"
    }
   ],
   "source": [
    "this_table.Cell(3, 4)"
   ]
  },
  {
   "cell_type": "code",
   "execution_count": 98,
   "metadata": {},
   "outputs": [],
   "source": [
    "# 为表格添加所有框线\n",
    "borders = [win32.constants.wdBorderTop, win32.constants.wdBorderLeft, \n",
    "           win32.constants.wdBorderBottom, win32.constants.wdBorderRight, \n",
    "           win32.constants.wdBorderHorizontal, win32.constants.wdBorderVertical]\n",
    "for border in borders:\n",
    "    this_table.Borders(border).LineStyle = win32.constants.wdLineStyleSingle\n",
    "    this_table.Borders(border).LineWidth = win32.constants.wdLineWidth025pt\n",
    "\n",
    "row_height = 25  # 示例行高，单位：磅\n",
    "for row in this_table.Rows:\n",
    "    row.Height = row_height"
   ]
  },
  {
   "cell_type": "code",
   "execution_count": 99,
   "metadata": {},
   "outputs": [
    {
     "name": "stderr",
     "output_type": "stream",
     "text": [
      "4it [00:02,  1.59it/s]\n"
     ]
    },
    {
     "data": {
      "text/plain": [
       "88"
      ]
     },
     "execution_count": 99,
     "metadata": {},
     "output_type": "execute_result"
    }
   ],
   "source": [
    "for row_idx, row in tqdm(enumerate(this_table.Rows)):\n",
    "    for col_idx, cell in enumerate(row.Cells):\n",
    "        font_size = 10.5\n",
    "        cell.Range.Font.Name = chinese_font\n",
    "        cell.Range.Font.Name = english_font\n",
    "        cell.Range.Text = \"文本\"  # 替换为所需的文本\n",
    "        cell.Range.ParagraphFormat.Alignment = win32.constants.wdAlignParagraphCenter # 设置水平居中\n",
    "        cell.VerticalAlignment = win32.constants.wdCellAlignVerticalCenter # 设置垂直居中\n",
    "        cell.Range.Font.Bold = True if row_idx % 2 == 0 or col_idx == 0 else False\n",
    "cursor.EndKey(Unit=win32.constants.wdStory)\n",
    "#cursor.MoveDown(win32.constants.wdRow,1)"
   ]
  },
  {
   "cell_type": "markdown",
   "metadata": {},
   "source": [
    "## 下面是一些学习内容"
   ]
  },
  {
   "cell_type": "code",
   "execution_count": 211,
   "metadata": {},
   "outputs": [],
   "source": [
    "import win32com.client as win32\n",
    "from PIL import ImageGrab\n",
    "\n",
    "word_app = win32.gencache.EnsureDispatch('Word.Application') # 创建 WORD APP 应用程序\n",
    "word_app.Visible = True #显示 word 程序\n",
    "our_doc = word_app.Documents.Open(r\"C:\\Users\\3590\\Desktop\\自动化项目工程文件\\我的测试文档.docx\") # 打开我的文档 \n",
    "our_doc\n",
    "\n",
    "cursor = word_app.Selection # 获取光标\n",
    "section_title = \"1. 中金量化-银河海山 1 号【CTA 日内短线高频策略】\"\n",
    "chinese_font = \"楷体\"\n",
    "english_font = \"Times New Roman\"\n",
    "font_size = 12\n",
    "cursor.Text = section_title\n",
    "cursor.Font.Name = chinese_font\n",
    "cursor.Font.Name = english_font\n",
    "cursor.Font.Size = font_size\n",
    "cursor.Font.Bold = True\n",
    "# cursor() 获取灰色选中部分的内容\n"
   ]
  },
  {
   "cell_type": "code",
   "execution_count": 274,
   "metadata": {},
   "outputs": [],
   "source": [
    "test_p = \"\"\"分年度看，2021年从2月10日到年底收益26.3%、2022年收益1.4%、2023年截至12月6日收益14.2%。中金量化-汉江5号产品的胜率较高，除2022年之外，各年度均获得了不错的正收益，显著跑赢CTA套利细分策略指数，与南华商品指数不分伯仲。\"\"\"\n",
    "cursor.Font.Name = chinese_font\n",
    "cursor.Font.Name = english_font\n",
    "cursor.Font.Size = 10.5\n",
    "cursor.Font.Bold = False\n",
    "cursor.Text = test_p\n",
    "# 移动光标到段落的开头\n",
    "cursor.MoveUp(win32.constants.wdParagraph, 1)\n",
    "cursor.MoveDown(win32.constants.wdParagraph, 1)\n",
    "cursor.InsertBefore(\"    \")\n",
    "# 获取选中光标所在段落，调整该段落格式\n",
    "paragraph_format = cursor.ParagraphFormat\n",
    "paragraph_format.wdLineSpaceAtLeast = win32.constants.wdLineSpaceAtLeast # 需要指定行距之最小值是多少磅\n",
    "paragraph_format.LineSpacing = 15 # 15 pond 1.25x 行距\n",
    "paragraph_format.Alignment = 0 # 4 是两端对齐"
   ]
  },
  {
   "cell_type": "code",
   "execution_count": 116,
   "metadata": {},
   "outputs": [],
   "source": [
    "test_p = \"\"\"分年度看，2021年从2月10日到年底收益26.3%、2022年收益1.4%、2023年截至12月6日收益14.2%。中金量化-汉江5号产品的胜率较高，除2022年之外，各年度均获得了不错的正收益，显著跑赢CTA套利细分策略指数，与南华商品指数不分伯仲。\"\"\"\n",
    "cursor.Font.Name = chinese_font\n",
    "cursor.Font.Name = english_font\n",
    "cursor.Font.Size = 10.5\n",
    "cursor.Font.Bold = False\n",
    "cursor.Text = test_p"
   ]
  },
  {
   "cell_type": "code",
   "execution_count": 266,
   "metadata": {},
   "outputs": [
    {
     "data": {
      "text/plain": [
       "1"
      ]
     },
     "execution_count": 266,
     "metadata": {},
     "output_type": "execute_result"
    }
   ],
   "source": [
    "cursor = word_app.Selection\n",
    "# 移动光标到段落的开头\n",
    "cursor.MoveUp(win32.constants.wdParagraph, 1)\n",
    "# 将光标从本段移动到下一段开头[若没有下一段，则移动到本段末尾]\n",
    "cursor.MoveDown(win32.constants.wdParagraph, 1)"
   ]
  },
  {
   "cell_type": "markdown",
   "metadata": {},
   "source": [
    "## Excel 学习内容\n",
    "\n",
    "虽然下面是Python代码，但本质上是VBA，语法应该参考西海岸著名科技大厂的官方文档\n",
    "\n",
    "https://learn.microsoft.com/zh-cn/office/vba/api/excel.axis.ticklabels"
   ]
  },
  {
   "cell_type": "code",
   "execution_count": 232,
   "metadata": {},
   "outputs": [],
   "source": [
    "import win32com.client as win32\n",
    "excel_app = win32.Dispatch('Excel.Application') # 创建 Excel APP 应用程序\n",
    "excel_app.Visible = True #显示 Excel 程序\n",
    "excel_file = excel_app.Workbooks.Open(r\"D:\\study\\实习文件\\办公软件自动化测试\\新测试数据.xlsx\") # 打开我的Excel\n",
    "excel_sheet1 = excel_file.Worksheets(\"Sheet1\") # 获取 Sheet1 对象\n",
    "used_range = excel_sheet1.UsedRange # 获得使用区域对象\n",
    "n_rows = used_range.Rows.Count # 使用区域一共有多少行？\n",
    "n_cols = used_range.Columns.Count # 使用区域一共多少列？\n",
    "used_range.Font.Name = \"宋体\" # 调整使用区域的所有字体\n",
    "excel_sheet1.Range(\"C6:C8\").Font.Name = \"Times New Roman\" # 调整部分区域的字体\n",
    "# MsoChartElementType 是枚举类型，请查阅文档"
   ]
  },
  {
   "cell_type": "code",
   "execution_count": 233,
   "metadata": {},
   "outputs": [],
   "source": [
    "chart = excel_sheet1.Shapes.AddChart(Width=18 * 28.346,Height=8.37 * 28.346).Select() # 对该sheet对象的所有列添加图表\n",
    "chart = excel_file.ActiveChart # 获取当前选中的图表\n",
    "chart.SetSourceData(excel_sheet1.UsedRange)\n",
    "color_dict = { # NOTE 现在给出的都是 RGB 值\n",
    "    \"deep_red\" : 0x0000C0, # BGR 0xC00000\n",
    "    \"orange\" : 0x00C0FF, # BGR 0xFFC000\n",
    "    \"deep_grey\" : 0x7F7F7F,\n",
    "    \"shallow_red\" : 0xCCCCFF,\n",
    "    \"shallow_grey\" : 0xBFBFBF\n",
    "}\n",
    "def convert_to_RGB(BGR_value: int):\n",
    "    \"\"\" 通过位运算将 BGR 转为 RGB \"\"\"\n",
    "    blue = (BGR_value & 0xFF0000) >> 16\n",
    "    green = (BGR_value & 0x00FF00) >> 8\n",
    "    red = BGR_value & 0x0000FF\n",
    "    return (red << 16) | (green << 8) | blue\n",
    "color_list = list(color_dict.keys())\n",
    "for i in range(n_cols - 1):\n",
    "    draw_type = 76 if  \"回撤\" in chart.SeriesCollection(i + 1).Name else 4\n",
    "    chart.SeriesCollection(i + 1).ChartType = draw_type # 修改类型\n",
    "    chart.SeriesCollection(i + 1).Format.Line.ForeColor.RGB = convert_to_RGB(color_dict.get(color_list[i]))\n",
    "    chart.SeriesCollection(i + 1).Format.Line.Weight = 1.5\n",
    "    if draw_type == 76:\n",
    "        chart.SeriesCollection(i + 1).AxisGroup = 2\n",
    "        chart.SeriesCollection(i + 1).Format.Fill.ForeColor.RGB = convert_to_RGB(color_dict.get(color_list[i]))"
   ]
  },
  {
   "cell_type": "code",
   "execution_count": 234,
   "metadata": {},
   "outputs": [],
   "source": [
    "chart.ChartArea.Format.Fill.Visible=False # 图片无填充\n",
    "chart.ChartArea.Format.Line.Visible=False #图片无边框\n",
    "# 标签置于顶部，其它数值参考 https://learn.microsoft.com/zh-cn/office/vba/api/excel.xllegendposition\n",
    "chart.Legend.Position = -4160 \n",
    "chart.Legend.Font.Name = \"楷体\"\n",
    "chart.Legend.Font.Size = 8\n",
    "# Axes() 第一个参数表示坐标轴类型，1是横轴，2是纵轴.\n",
    "chart.Axes(1).TickLabels.Font.Name = \"Arial\" # 设置坐标轴字体\n",
    "chart.Axes(1).TickLabels.Font.Size = 8 # 设置坐标轴大小\n",
    "chart.Axes(1).MajorUnit  = 3 # 设置坐标间隔\n",
    "chart.Axes(1).TickLabels.NumberFormat  = \"yyyy-mm\" # 设置数字格式\n",
    "chart.Axes(1).Border.Weight =  win32.constants.xlThin\n",
    "chart.Axes(1).Border.Color =  0x000000\n",
    "chart.Axes(1).MajorTickMark  =  win32.constants.xlTickMarkInside\n",
    "#chart.Axes(1).MinorTickMark =  win32.constants.xlTickMarkInside\n",
    "\n",
    "\n",
    "chart.Axes(2, 1).TickLabels.Font.Name = \"Arial\" # 设置坐标轴字体\n",
    "chart.Axes(2, 1).TickLabels.Font.Size = 8 # 设置坐标轴大小\n",
    "#chart.Axes(2, 2).MajorUnit  = 0.2 # 设置坐标间隔\n",
    "chart.Axes(2, 1).TickLabels.NumberFormat  = \"0.00\"\n",
    "\n",
    "chart.Axes(2, 2).TickLabels.Font.Name = \"Arial\" # 设置坐标轴字体\n",
    "chart.Axes(2, 2).TickLabels.Font.Size = 8 # 设置坐标轴大小\n",
    "chart.Axes(2, 2).TickLabels.NumberFormat  = \"0.0%\"\n",
    "\n",
    "chart.Axes(2, 2).Format.Line.Visible = False # 纵轴刻度线消失\n",
    "chart.Axes(2, 1).Format.Line.Visible = False\n",
    "\n",
    "chart.Axes(2, 1).HasMajorGridlines  = True\n",
    "chart.Axes(2, 1).MajorGridlines.Border.Color = 0xD9D9D9\n",
    "chart.Axes(2, 1).MajorGridlines.Border.LineStyle = win32.constants.xlDash\n",
    "\n",
    "chart.ChartArea.Format.Fill.Transparency = 1 \n",
    "chart.PlotArea.Interior.ColorIndex = False"
   ]
  },
  {
   "cell_type": "code",
   "execution_count": 238,
   "metadata": {},
   "outputs": [],
   "source": [
    "# 复制粘贴到 WORD\n",
    "chart.ChartArea.Copy()\n",
    "cursor.Paste()"
   ]
  }
 ],
 "metadata": {
  "kernelspec": {
   "display_name": "base",
   "language": "python",
   "name": "python3"
  },
  "language_info": {
   "codemirror_mode": {
    "name": "ipython",
    "version": 3
   },
   "file_extension": ".py",
   "mimetype": "text/x-python",
   "name": "python",
   "nbconvert_exporter": "python",
   "pygments_lexer": "ipython3",
   "version": "3.8.8"
  }
 },
 "nbformat": 4,
 "nbformat_minor": 2
}
