{
 "cells": [
  {
   "cell_type": "markdown",
   "metadata": {},
   "source": [
    "## 交互式数据获取\n",
    "\n",
    "如果部分数据希望获取而没有在 WORD 上显示出来，可以在该 notebook 中写代码调用各个模块，获得你想要的数据"
   ]
  },
  {
   "cell_type": "code",
   "execution_count": 1,
   "metadata": {},
   "outputs": [],
   "source": [
    "# 这是导入的第三方包\n",
    "import numpy as np\n",
    "import pandas as pd\n",
    "import matplotlib.pyplot as plt\n",
    "from datetime import date\n",
    "from datetime import datetime\n",
    "import os\n",
    "# 这是自己写的其它模块文件\n",
    "import fund # 基金计算模块\n",
    "import utils # 一些工具模块，用于把字典 dict 转化为 pd.Series 或者 pd.DataFrame\n",
    "import index_handler as ih # 指数数据处理模块\n",
    "import date_handler as dh # 日期处理模块\n",
    "import draw_plot as dp # 绘图模块\n",
    "import word_handler as wh # 写入 WORD 模块\n",
    "\n",
    "# NOTE 这些代码给出了基金指标计算模块的使用方法\n",
    "netval_data = pd.read_excel(\"data/裕锦量化专享1号-指数数据.xlsx\", index_col = 0)\n",
    "index_data = pd.read_excel(\"data/指数数据.xlsx\", index_col = 0)\n",
    "fund_name = netval_data.columns[0]\n",
    "this_fund = fund.Fund(fund_name, netval_data.iloc[:, 0])\n",
    "corp_name = \"裕锦\""
   ]
  },
  {
   "cell_type": "code",
   "execution_count": 8,
   "metadata": {},
   "outputs": [
    {
     "data": {
      "text/plain": [
       "{'夏普比率': 1.2940428593574143}"
      ]
     },
     "execution_count": 8,
     "metadata": {},
     "output_type": "execute_result"
    }
   ],
   "source": [
    "# NOTE 这些代码给出了基金指标计算模块的使用方法\n",
    "netval_data = pd.read_excel(\"data/策略4净值数据.xlsx\", index_col = 0)\n",
    "fund_name = netval_data.columns[0]\n",
    "this_fund = fund.Fund(fund_name, netval_data.iloc[:, 0])\n",
    "this_fund.sharpe_ratio(0.0)"
   ]
  },
  {
   "cell_type": "markdown",
   "metadata": {},
   "source": [
    "通过调用this_fund的各种方法，来灵活地获取数据。\n",
    "\n",
    "建议使用 JetBrains 下的 PyCharm 或者 MicroSoft 下的 VScode 运行这些文件。这些 IDE 可以提供语法智能提示。"
   ]
  },
  {
   "cell_type": "code",
   "execution_count": 8,
   "metadata": {},
   "outputs": [
    {
     "data": {
      "text/plain": [
       "{'累计收益率': 0.24659939981428547,\n",
       " '年化收益率': 0.07475267202833313,\n",
       " '最大回撤': -0.017006290070203933,\n",
       " '年化波动率': 0.027522509556050206,\n",
       " '夏普比率': 2.1710473714849834,\n",
       " '周胜率': 0.6410256410256411}"
      ]
     },
     "execution_count": 8,
     "metadata": {},
     "output_type": "execute_result"
    }
   ],
   "source": [
    "this_fund.all_month_return()\n",
    "this_fund.all_year_return()\n",
    "this_fund.summary_indicators()"
   ]
  }
 ],
 "metadata": {
  "kernelspec": {
   "display_name": "myenv",
   "language": "python",
   "name": "python3"
  },
  "language_info": {
   "codemirror_mode": {
    "name": "ipython",
    "version": 3
   },
   "file_extension": ".py",
   "mimetype": "text/x-python",
   "name": "python",
   "nbconvert_exporter": "python",
   "pygments_lexer": "ipython3",
   "version": "3.8.8"
  }
 },
 "nbformat": 4,
 "nbformat_minor": 2
}
