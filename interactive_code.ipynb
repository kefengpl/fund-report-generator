{
 "cells": [
  {
   "cell_type": "markdown",
   "metadata": {},
   "source": [
    "## 交互式数据获取\n",
    "\n",
    "如果部分数据希望获取而没有在 WORD 上显示出来，可以在该 notebook 中写代码调用各个模块，获得你想要的数据"
   ]
  },
  {
   "cell_type": "code",
   "execution_count": 1,
   "metadata": {},
   "outputs": [],
   "source": [
    "# 这是导入的第三方包\n",
    "import numpy as np\n",
    "import pandas as pd\n",
    "import matplotlib.pyplot as plt\n",
    "from datetime import date\n",
    "from datetime import datetime\n",
    "from dateutil.relativedelta import relativedelta\n",
    "\n",
    "import os\n",
    "import math\n",
    "\n",
    "# 这是自己写的其它模块文件\n",
    "import fund # 基金计算模块\n",
    "import enhanced_fund as ef # 指增基金模块\n",
    "import utils # 一些工具模块，用于把字典 dict 转化为 pd.Series 或者 pd.DataFrame\n",
    "import index_handler as ih # 指数数据处理模块\n",
    "import date_handler as dh # 日期处理模块\n",
    "import draw_plot as dp # 绘图模块\n",
    "import word_handler as wh # 写入 WORD 模块\n",
    "\n",
    "# NOTE 这些代码给出了基金指标计算模块的使用方法\n",
    "netval_data = pd.read_excel(\"data/聚宽一号-净值数据.xlsx\", index_col = 0)\n",
    "index_data = pd.read_excel(\"data/指数数据.xlsx\", index_col = 0)\n",
    "fund_name = netval_data.columns[0]\n",
    "this_fund = fund.Fund(fund_name, netval_data.iloc[:, 0])\n",
    "corp_name = \"聚宽投资\""
   ]
  },
  {
   "cell_type": "markdown",
   "metadata": {},
   "source": [
    "通过调用this_fund的各种方法，来灵活地获取数据。\n",
    "\n",
    "建议使用 JetBrains 下的 PyCharm 或者 MicroSoft 下的 VScode 运行这些文件。这些 IDE 可以提供语法智能提示。"
   ]
  },
  {
   "cell_type": "code",
   "execution_count": 2,
   "metadata": {},
   "outputs": [
    {
     "data": {
      "text/plain": [
       "{'累计收益率': 2.2042,\n",
       " '年化收益率': 0.22409536100774718,\n",
       " '最大回撤': -0.26264863297213215,\n",
       " '年化波动率': 0.2062160099290775,\n",
       " '夏普比率': 1.0139627911511815,\n",
       " '周胜率': 0.569023569023569,\n",
       " '本周收益率': 0.007134999214207127,\n",
       " '过去一年最大回撤': -0.16119591869018424,\n",
       " '最大周度回撤': -0.09807355516637484,\n",
       " '下行标准差': 0.016693371954938627,\n",
       " '下行标准差年化': 0.1203776170878475,\n",
       " 'Sortino比率': 1.7369953490203787,\n",
       " 'Calmar比率': 0.8532135060894241,\n",
       " '是否创新高': '否',\n",
       " '未创新高的天数': 868}"
      ]
     },
     "execution_count": 2,
     "metadata": {},
     "output_type": "execute_result"
    }
   ],
   "source": [
    "this_fund.all_month_return()\n",
    "this_fund.all_year_return()\n",
    "this_fund.all_recent_return() \n",
    "this_fund.summary_indicators()"
   ]
  },
  {
   "cell_type": "markdown",
   "metadata": {},
   "source": [
    "### 细节补充：pd.Series 的用法\n",
    "\n",
    "pd.Series 的索引如果是有序的，就支持 类似于 x[date(2015, 1, 15):] 这种查找，date(2015, 1, 15)未必是索引值之一。\n",
    "\n",
    "而如果是无序的，就只能x[k:]的k就必须是索引值之一，它会取它以及它后面的数据。此外，x[:k]，这种右侧是闭区间，与 Python 中的其它数据结构是有差异的"
   ]
  },
  {
   "cell_type": "code",
   "execution_count": null,
   "metadata": {},
   "outputs": [],
   "source": [
    "x = pd.Series([1, 2, 3])\n",
    "x.index = [date(2015, 1, 16), date(2015, 1, 10), date(2015, 1, 12)]\n",
    "x.index = [date(2015, 1, 16), date(2015, 1, 12), date(2015, 1, 10)]\n",
    "x[date(2015, 1, 15):]\n",
    "x[:date(2015, 1, 10)]\n",
    "x[:date(2014, 1, 10)]\n",
    "x[date(2017, 1, 10):]"
   ]
  }
 ],
 "metadata": {
  "kernelspec": {
   "display_name": "Python 3 (ipykernel)",
   "language": "python",
   "name": "python3"
  },
  "language_info": {
   "codemirror_mode": {
    "name": "ipython",
    "version": 3
   },
   "file_extension": ".py",
   "mimetype": "text/x-python",
   "name": "python",
   "nbconvert_exporter": "python",
   "pygments_lexer": "ipython3",
   "version": "3.8.8"
  }
 },
 "nbformat": 4,
 "nbformat_minor": 2
}
