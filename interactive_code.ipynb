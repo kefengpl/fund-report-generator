{
 "cells": [
  {
   "cell_type": "markdown",
   "metadata": {},
   "source": [
    "## 交互式数据获取\n",
    "\n",
    "如果部分数据希望获取而没有在 WORD 上显示出来，可以在该 notebook 中写代码调用各个模块，获得你想要的数据"
   ]
  },
  {
   "cell_type": "code",
   "execution_count": 8,
   "metadata": {},
   "outputs": [],
   "source": [
    "# 这是导入的第三方包\n",
    "import numpy as np\n",
    "import pandas as pd\n",
    "import matplotlib.pyplot as plt\n",
    "from datetime import date\n",
    "from datetime import datetime\n",
    "from dateutil.relativedelta import relativedelta\n",
    "\n",
    "import os\n",
    "import math\n",
    "\n",
    "# 这是自己写的其它模块文件\n",
    "import fund # 基金计算模块\n",
    "import enhanced_fund as ef # 指增基金模块\n",
    "import utils # 一些工具模块，用于把字典 dict 转化为 pd.Series 或者 pd.DataFrame\n",
    "import index_handler as ih # 指数数据处理模块\n",
    "import date_handler as dh # 日期处理模块\n",
    "import draw_plot as dp # 绘图模块\n",
    "import word_handler as wh # 写入 WORD 模块\n",
    "\n",
    "# NOTE 这些代码给出了基金指标计算模块的使用方法\n",
    "netval_data = pd.read_excel(\"data/中证1000基金-净值数据.xlsx\", index_col = 0)\n",
    "index_data = pd.read_excel(\"data/指数数据.xlsx\", index_col = 0)\n",
    "fund_name = netval_data.columns[0]\n",
    "this_fund = fund.Fund(fund_name, netval_data.iloc[:, 0])\n",
    "corp_name = \"明汯投资\""
   ]
  },
  {
   "cell_type": "code",
   "execution_count": 9,
   "metadata": {},
   "outputs": [
    {
     "data": {
      "text/plain": [
       "False"
      ]
     },
     "execution_count": 9,
     "metadata": {},
     "output_type": "execute_result"
    }
   ],
   "source": [
    "isinstance(this_fund, fund.Fund)\n",
    "isinstance(this_fund, ef.EnhancedFund)"
   ]
  },
  {
   "cell_type": "code",
   "execution_count": 4,
   "metadata": {},
   "outputs": [
    {
     "name": "stdout",
     "output_type": "stream",
     "text": [
      "lida\n"
     ]
    }
   ],
   "source": [
    "def func(**kwargs):\n",
    "    name = kwargs.get(\"name\", None)\n",
    "    if not name:\n",
    "        name = \"lida\"\n",
    "    print(name)\n",
    "func()"
   ]
  },
  {
   "cell_type": "markdown",
   "metadata": {},
   "source": [
    "通过调用this_fund的各种方法，来灵活地获取数据。\n",
    "\n",
    "建议使用 JetBrains 下的 PyCharm 或者 MicroSoft 下的 VScode 运行这些文件。这些 IDE 可以提供语法智能提示。"
   ]
  },
  {
   "cell_type": "code",
   "execution_count": 2,
   "metadata": {},
   "outputs": [
    {
     "data": {
      "text/plain": [
       "{'累计收益率': 0.03600000000000003,\n",
       " '年化收益率': 0.025135720864375433,\n",
       " '最大回撤': -0.10899999999999999,\n",
       " '年化波动率': 0.1656083534351546,\n",
       " '夏普比率': 0.061202956578782504,\n",
       " '周胜率': 0.4861111111111111,\n",
       " '本周收益率': -0.027230046948356734,\n",
       " '过去一年最大回撤': -0.07497656982193057,\n",
       " '最大周度回撤': -0.05476673427991885,\n",
       " '下行标准差': 0.015430459361047113,\n",
       " '下行标准差年化': 0.11127062486043733,\n",
       " 'Sortino比率': 0.0910907157849459,\n",
       " 'Calmar比率': 0.2306029437098664,\n",
       " '是否创新高': '否',\n",
       " '未创新高的天数': 21}"
      ]
     },
     "execution_count": 2,
     "metadata": {},
     "output_type": "execute_result"
    }
   ],
   "source": [
    "this_fund.all_month_return()\n",
    "this_fund.all_year_return()\n",
    "this_fund.all_recent_return() \n",
    "this_fund.summary_indicators()"
   ]
  },
  {
   "cell_type": "markdown",
   "metadata": {},
   "source": [
    "### 细节补充：pd.Series 的用法\n",
    "\n",
    "pd.Series 的索引如果是有序的，就支持 类似于 x[date(2015, 1, 15):] 这种查找，date(2015, 1, 15)未必是索引值之一。\n",
    "\n",
    "而如果是无序的，就只能x[k:]的k就必须是索引值之一，它会取它以及它后面的数据。此外，x[:k]，这种右侧是闭区间，与 Python 中的其它数据结构是有差异的"
   ]
  },
  {
   "cell_type": "code",
   "execution_count": null,
   "metadata": {},
   "outputs": [],
   "source": [
    "x = pd.Series([1, 2, 3])\n",
    "x.index = [date(2015, 1, 16), date(2015, 1, 10), date(2015, 1, 12)]\n",
    "x.index = [date(2015, 1, 16), date(2015, 1, 12), date(2015, 1, 10)]\n",
    "x[date(2015, 1, 15):]\n",
    "x[:date(2015, 1, 10)]\n",
    "x[:date(2014, 1, 10)]\n",
    "x[date(2017, 1, 10):]"
   ]
  }
 ],
 "metadata": {
  "kernelspec": {
   "display_name": "Python 3 (ipykernel)",
   "language": "python",
   "name": "python3"
  },
  "language_info": {
   "codemirror_mode": {
    "name": "ipython",
    "version": 3
   },
   "file_extension": ".py",
   "mimetype": "text/x-python",
   "name": "python",
   "nbconvert_exporter": "python",
   "pygments_lexer": "ipython3",
   "version": "3.8.8"
  }
 },
 "nbformat": 4,
 "nbformat_minor": 2
}
